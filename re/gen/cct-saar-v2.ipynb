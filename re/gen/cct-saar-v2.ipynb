{
 "cells": [
  {
   "cell_type": "markdown",
   "metadata": {},
   "source": [
    "# CCT-SAAR\n",
    "\n",
    "In this notebook:\n",
    "1. Apply **CCT-SAAR** to `FiQA`, while keeping track of the failed instances.\n",
    "2. Process failed cases by re-applying **CCT-SAAR**. "
   ]
  },
  {
   "cell_type": "code",
   "execution_count": 1,
   "metadata": {},
   "outputs": [
    {
     "name": "stdout",
     "output_type": "stream",
     "text": [
      "c:\\ai\\workspace\\PhD\\cir3_anonym\\cirrr\n",
      " Volume in drive C is OS\n",
      " Volume Serial Number is BE2B-F904\n",
      "\n",
      " Directory of c:\\ai\\workspace\\PhD\\cir3_anonym\\cirrr\n",
      "\n",
      "16/06/2024  03:55    <DIR>          .\n",
      "16/06/2024  02:48    <DIR>          ..\n",
      "16/06/2024  05:14             3,369 .gitignore\n",
      "16/06/2024  03:26    <DIR>          aimw\n",
      "16/06/2024  05:09    <DIR>          conf\n",
      "16/06/2024  12:43    <DIR>          re\n",
      "16/06/2024  02:51                 6 README.md\n",
      "               2 File(s)          3,375 bytes\n",
      "               5 Dir(s)  331,582,717,952 bytes free\n"
     ]
    }
   ],
   "source": [
    "# cd to \"Directory of \"./alignment\"\n",
    "%cd ../../\n",
    "%ls"
   ]
  },
  {
   "cell_type": "code",
   "execution_count": 2,
   "metadata": {},
   "outputs": [],
   "source": [
    "from aimw.app.services.batch.batch_qa_gen_service import CCTSAARGenerator\n",
    "from aimw.app.utils import cct_saar_utils\n",
    "\n",
    "from loguru import logger\n",
    "\n",
    "\n",
    "from aimw.app.resources.icl_templates import icl_gen_templates\n",
    "from aimw.app.services.factory.model_factory_service import Factory\n",
    "\n",
    "factory = Factory()\n",
    "\n",
    "generator = factory.create_llm(model_name=\"llama3-8b-8192\")\n",
    "\n",
    "cct_saar_generator = CCTSAARGenerator(\n",
    "    template=icl_gen_templates.template_dp_qa,\n",
    "    verbose=True,\n",
    "    number_of_questions=\"10\",\n",
    "    model = generator\n",
    ")"
   ]
  },
  {
   "cell_type": "code",
   "execution_count": 4,
   "metadata": {},
   "outputs": [
    {
     "name": "stderr",
     "output_type": "stream",
     "text": [
      "\u001b[32m2024-06-16 12:54:10.753\u001b[0m | \u001b[1mINFO    \u001b[0m | \u001b[36maimw.app.utils.cct_saar_utils\u001b[0m:\u001b[36mapply_cct_saar\u001b[0m:\u001b[36m49\u001b[0m - \u001b[1mProcessing file number 0: corpus_cln_split_0.json\u001b[0m\n",
      "100%|██████████| 4/4 [00:15<00:00,  3.89s/it]\n",
      "\u001b[32m2024-06-16 12:54:26.329\u001b[0m | \u001b[1mINFO    \u001b[0m | \u001b[36maimw.app.utils.cct_saar_utils\u001b[0m:\u001b[36mapply_cct_saar\u001b[0m:\u001b[36m49\u001b[0m - \u001b[1mProcessing file number 1: corpus_cln_split_1.json\u001b[0m\n",
      "100%|██████████| 4/4 [00:15<00:00,  3.77s/it]\n"
     ]
    }
   ],
   "source": [
    "r_dir = \"./re/data/fiqa/clean/split/\"\n",
    "w_dir = \"./re/data/fiqa/clean/base/exp_001/\"\n",
    "\n",
    "cct_saar_generated, cct_saar_failed = cct_saar_utils.apply_cct_saar(\n",
    "    cct_saar_generator, r_dir, w_dir, start_index=0, end_index=-1, sleep_time=3\n",
    ")"
   ]
  },
  {
   "cell_type": "code",
   "execution_count": 6,
   "metadata": {},
   "outputs": [
    {
     "data": {
      "text/plain": [
       "[{'docid': 2311,\n",
       "  'doc': \"LOL. You think the game is fair, big man? You think its all about that one big idea, and then you're gonna be rich?  Why don't you finish high school, and get a real job and plan your big startup, and then we'll have this conversation.\",\n",
       "  'tokenized_size': 63.0,\n",
       "  'max_seq_len_exceeded': False,\n",
       "  'cct_saar': {'queries_aspects': [{'question': 'What is the main theme of the conversation?',\n",
       "     'answer': 'The main theme of the conversation is the unfairness of the game of life, specifically the idea that success is not solely dependent on one big idea.'},\n",
       "    {'question': \"What is the speaker's opinion on the idea of getting rich?\",\n",
       "     'answer': 'The speaker believes that getting rich is not solely dependent on one big idea, but rather requires a solid education and a real job.'},\n",
       "    {'question': \"What is the speaker's suggestion for achieving success?\",\n",
       "     'answer': 'The speaker suggests finishing high school and getting a real job to plan for a successful startup.'},\n",
       "    {'question': \"What is the tone of the speaker's language?\",\n",
       "     'answer': \"The tone of the speaker's language is sarcastic and condescending.\"},\n",
       "    {'question': \"What is the speaker's attitude towards the idea of a 'big startup'?\",\n",
       "     'answer': \"The speaker is skeptical of the idea of a 'big startup' and believes it is unrealistic.\"},\n",
       "    {'question': \"What is the speaker's opinion on the importance of education?\",\n",
       "     'answer': 'The speaker believes that education is crucial for achieving success.'},\n",
       "    {'question': \"What is the speaker's attitude towards the idea of getting rich quickly?\",\n",
       "     'answer': 'The speaker is dismissive of the idea of getting rich quickly and believes it is unrealistic.'},\n",
       "    {'question': 'What is the main message of the speaker?',\n",
       "     'answer': 'The main message of the speaker is that success requires hard work, education, and a solid foundation, rather than relying on a single big idea.'},\n",
       "    {'question': \"What is the speaker's tone towards the person they are speaking to?\",\n",
       "     'answer': \"The speaker's tone towards the person they are speaking to is condescending and patronizing.\"},\n",
       "    {'question': \"What is the speaker's opinion on the idea of a 'big idea'?\",\n",
       "     'answer': \"The speaker believes that a 'big idea' is not enough to guarantee success.\"},\n",
       "    {'question': 'What is the main takeaway from the conversation?',\n",
       "     'answer': 'The main takeaway from the conversation is that success requires a combination of hard work, education, and a solid foundation, rather than relying on a single big idea.'}]}},\n",
       " {'docid': 2322,\n",
       "  'doc': 'thats my main regret - similar to cfa vs. mba  they only hire kids right out of top tier schools with inflated gpas (harvard im looking at you) and these kids dont know their asses from their elbows and they immediately get into the models and bottles mindset  id take a state schooler with a level head any day over wanna be rainmakers',\n",
       "  'tokenized_size': 75.0,\n",
       "  'max_seq_len_exceeded': False,\n",
       "  'cct_saar': {'queries_aspects': [{'question': 'What are the typical qualifications for getting hired by top investment banks?',\n",
       "     'answer': 'Typically, investment banks look for candidates with a strong academic background, often from top-tier universities, with high GPAs and relevant coursework in finance or a related field.'},\n",
       "    {'question': 'Why do investment banks prioritize candidates from top universities?',\n",
       "     'answer': 'Investment banks often prioritize candidates from top universities because they perceive them as having a higher level of intelligence, work ethic, and networking opportunities.'},\n",
       "    {'question': 'What are the common misconceptions about investment banking?',\n",
       "     'answer': 'Common misconceptions include the idea that investment bankers are all high-achieving, high-earning, and high-stress professionals, when in reality, many investment bankers struggle to make ends meet and face high levels of burnout.'},\n",
       "    {'question': 'What are the pros and cons of working in investment banking?',\n",
       "     'answer': 'Pros include high earning potential, networking opportunities, and a fast-paced and dynamic work environment. Cons include long hours, high stress levels, and a high turnover rate.'},\n",
       "    {'question': 'What are some common stereotypes about investment bankers?',\n",
       "     'answer': 'Common stereotypes include the idea that investment bankers are arrogant, entitled, and only care about making money, when in reality, many investment bankers are hardworking, dedicated professionals who are passionate about their work.'},\n",
       "    {'question': 'What are some common myths about investment banking?',\n",
       "     'answer': \"Common myths include the idea that investment bankers are all 'wannabe rainmakers' who are only in it for the money, when in reality, many investment bankers are passionate about finance and want to make a positive impact.\"},\n",
       "    {'question': 'What are some common challenges faced by investment bankers?',\n",
       "     'answer': 'Common challenges include long hours, high stress levels, and a high level of competition, which can lead to burnout and turnover.'},\n",
       "    {'question': 'What are some common skills required for investment banking?',\n",
       "     'answer': 'Common skills required include strong analytical and problem-solving skills, excellent communication and teamwork skills, and the ability to work well under pressure.'},\n",
       "    {'question': 'What are some common career paths for investment bankers?',\n",
       "     'answer': 'Common career paths include private equity, hedge funds, asset management, and entrepreneurship.'},\n",
       "    {'question': 'What are some common skills required for investment banking?',\n",
       "     'answer': 'Common skills required include financial modeling, data analysis, and financial statement analysis.'},\n",
       "    {'question': 'What are some common challenges faced by investment bankers?',\n",
       "     'answer': 'Common challenges include managing multiple priorities, meeting tight deadlines, and working well under pressure.'},\n",
       "    {'question': 'What are some common skills required for investment banking?',\n",
       "     'answer': 'Common skills required include strong analytical and problem-solving skills, excellent communication and teamwork skills, and the ability to work well under pressure.'}]}},\n",
       " {'docid': 2325,\n",
       "  'doc': 'Economic hardship is just as misleading as \"economic slavery\".  If you are working two jobs and can\\'t afford rent... How can you better yourself?  Sure, if you are exceptionally intelligent and/or charismatic and/or exceptionally great in some other way, you could find a way out of the hole.  But if you are working two full-time jobs and are trying your best - that should be enough.  I personally am against a $15 minimum wage - even on a local level, much less a state or federal level, but I very much support legislation that ensures someone who works 85 (or 60) hours a week (that\\'s 12 hours a day for 85 hours per week) can get by.  By \"getting by\" I mean can rent modest housing, can afford nutritious food, can afford decent health insurance, can buy clothes (maybe second-hand), can put a bit into savings, etc.  Minimum wage jobs are done by young people just entering the job market and older people with few skills.  Better to have legislation that takes that into account.  High school and college kids won\\'t be working 60-85+ hours a week.  Save the subsidies for the people that really need them.',\n",
       "  'tokenized_size': 251.0,\n",
       "  'max_seq_len_exceeded': False,\n",
       "  'cct_saar': {'queries_aspects': [{'question': 'What are the current challenges faced by individuals working multiple jobs to make ends meet?',\n",
       "     'answer': 'Individuals working multiple jobs often struggle with financial insecurity, lack of time for personal and family responsibilities, and limited opportunities for career advancement.'},\n",
       "    {'question': 'What are some potential solutions to address economic hardship?',\n",
       "     'answer': 'Potential solutions include increasing the minimum wage, implementing policies to ensure fair compensation for overtime work, and providing access to affordable healthcare and education.'},\n",
       "    {'question': 'How can individuals working multiple jobs prioritize their well-being and self-care?',\n",
       "     'answer': 'Individuals can prioritize self-care by setting realistic goals, scheduling time for personal activities, and seeking support from friends, family, or mental health professionals.'},\n",
       "    {'question': 'What are the benefits of a living wage versus a minimum wage?',\n",
       "     'answer': 'A living wage ensures that individuals can afford basic necessities, such as housing, food, and healthcare, whereas a minimum wage often leaves individuals struggling to make ends meet.'},\n",
       "    {'question': 'How can policymakers address the needs of low-income workers?',\n",
       "     'answer': 'Policymakers can address the needs of low-income workers by implementing policies that prioritize fair compensation, affordable healthcare, and access to education and job training programs.'},\n",
       "    {'question': 'What are some potential consequences of not addressing economic hardship?',\n",
       "     'answer': 'If economic hardship is not addressed, it can lead to increased poverty rates, decreased economic mobility, and negative impacts on mental and physical health.'},\n",
       "    {'question': 'How can individuals working multiple jobs balance their work and personal life?',\n",
       "     'answer': 'Individuals can balance their work and personal life by prioritizing self-care, setting realistic goals, and seeking support from loved ones and professionals.'},\n",
       "    {'question': 'What are some potential benefits of a $15 minimum wage?',\n",
       "     'answer': 'A $15 minimum wage can provide a significant increase in income for low-wage workers, allowing them to afford basic necessities and improve their overall well-being.'},\n",
       "    {'question': 'How can individuals working multiple jobs prioritize their financial security?',\n",
       "     'answer': 'Individuals can prioritize their financial security by creating a budget, saving for emergencies, and seeking financial counseling.'},\n",
       "    {'question': 'What are some potential challenges of implementing a $15 minimum wage?',\n",
       "     'answer': 'Potential challenges include increased costs for businesses, potential job losses, and potential negative impacts on small businesses and entrepreneurs.'},\n",
       "    {'question': 'What is the importance of addressing economic hardship in society?',\n",
       "     'answer': 'Addressing economic hardship is crucial for promoting social justice, reducing poverty rates, and improving overall well-being and economic mobility.'}]}},\n",
       " {'docid': 2326,\n",
       "  'doc': 'Yes. Since it is our duty to give aid to helpless children, even when their parents make \"bad\" choices. As a society we combat this situation with education so that people will understand that having children they \"can\\'t afford\" is a bad idea. Contraception and financial education is essential in this situation.',\n",
       "  'tokenized_size': 66.0,\n",
       "  'max_seq_len_exceeded': False,\n",
       "  'cct_saar': {'queries_aspects': [{'question': 'What is the primary responsibility of a society towards helpless children?',\n",
       "     'answer': \"It is our duty to give aid to helpless children, even when their parents make 'bad' choices.\"},\n",
       "    {'question': 'How do we combat the situation of helpless children?',\n",
       "     'answer': \"We combat this situation with education, so that people will understand that having children they 'can't afford' is a bad idea.\"},\n",
       "    {'question': 'What is essential in preventing the situation of helpless children?',\n",
       "     'answer': 'Contraception and financial education are essential in preventing the situation of helpless children.'},\n",
       "    {'question': 'What is the role of education in preventing helpless children?',\n",
       "     'answer': 'Education plays a crucial role in preventing helpless children by teaching people the importance of responsible parenting.'},\n",
       "    {'question': \"What is the impact of 'bad' parenting on helpless children?\",\n",
       "     'answer': \"The impact of 'bad' parenting on helpless children is that they are left without proper care and support.\"},\n",
       "    {'question': 'What is the responsibility of parents towards their children?',\n",
       "     'answer': 'Parents have the responsibility to provide proper care and support to their children.'},\n",
       "    {'question': 'What is the role of society in preventing helpless children?',\n",
       "     'answer': 'Society has a role to play in preventing helpless children by providing education and support to parents.'},\n",
       "    {'question': 'What is the importance of financial education in preventing helpless children?',\n",
       "     'answer': 'Financial education is important in preventing helpless children as it helps parents make informed decisions about their family planning.'},\n",
       "    {'question': 'What is the impact of irresponsible parenting on helpless children?',\n",
       "     'answer': 'Irresponsible parenting can lead to helpless children who are left without proper care and support.'},\n",
       "    {'question': 'What is the role of contraception in preventing helpless children?',\n",
       "     'answer': 'Contraception plays a crucial role in preventing helpless children by preventing unwanted pregnancies.'},\n",
       "    {'question': 'What is the overall goal of preventing helpless children?',\n",
       "     'answer': 'The overall goal of preventing helpless children is to ensure that children are born into a stable and supportive environment.'}]}}]"
      ]
     },
     "execution_count": 6,
     "metadata": {},
     "output_type": "execute_result"
    }
   ],
   "source": [
    "cct_saar_generated"
   ]
  }
 ],
 "metadata": {
  "kernelspec": {
   "display_name": "phd-align-py3-11",
   "language": "python",
   "name": "python3"
  },
  "language_info": {
   "codemirror_mode": {
    "name": "ipython",
    "version": 3
   },
   "file_extension": ".py",
   "mimetype": "text/x-python",
   "name": "python",
   "nbconvert_exporter": "python",
   "pygments_lexer": "ipython3",
   "version": "3.11.9"
  }
 },
 "nbformat": 4,
 "nbformat_minor": 2
}
